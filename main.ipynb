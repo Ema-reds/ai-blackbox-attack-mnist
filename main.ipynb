{
 "cells": [
  {
   "cell_type": "markdown",
   "id": "33c12feb",
   "metadata": {},
   "source": [
    "# STEP 1"
   ]
  },
  {
   "cell_type": "markdown",
   "id": "787560ff",
   "metadata": {},
   "source": [
    "### basic functions"
   ]
  },
  {
   "cell_type": "code",
   "execution_count": null,
   "id": "b5ce7009",
   "metadata": {},
   "outputs": [
    {
     "name": "stderr",
     "output_type": "stream",
     "text": [
      "100%|██████████| 9.91M/9.91M [00:01<00:00, 6.62MB/s]\n",
      "100%|██████████| 28.9k/28.9k [00:00<00:00, 224kB/s]\n",
      "100%|██████████| 1.65M/1.65M [00:00<00:00, 1.82MB/s]\n",
      "100%|██████████| 4.54k/4.54k [00:00<00:00, 2.56MB/s]\n"
     ]
    }
   ],
   "source": [
    "import torch\n",
    "import torch.nn as nn\n",
    "import torch.optim as optim\n",
    "from torchvision import datasets, transforms\n",
    "from torch.utils.data import DataLoader\n",
    "\n",
    "# base transformation\n",
    "transform = transforms.ToTensor()\n",
    "\n",
    "# MNIST dataset\n",
    "train_dataset = datasets.MNIST(root='./data', train=True, download=True, transform=transform)\n",
    "test_dataset  = datasets.MNIST(root='./data', train=False, download=True, transform=transform)\n",
    "\n",
    "train_loader = DataLoader(train_dataset, batch_size=64, shuffle=True)\n",
    "test_loader  = DataLoader(test_dataset, batch_size=1000, shuffle=False)\n"
   ]
  },
  {
   "cell_type": "markdown",
   "id": "367bdf1b",
   "metadata": {},
   "source": [
    "### target model easy MLP"
   ]
  },
  {
   "cell_type": "code",
   "execution_count": 2,
   "id": "e74f7d19",
   "metadata": {},
   "outputs": [],
   "source": [
    "class TargetModel(nn.Module):\n",
    "    def __init__(self):\n",
    "        super(TargetModel, self).__init__()\n",
    "        self.fc = nn.Sequential(\n",
    "            nn.Flatten(),\n",
    "            nn.Linear(28*28, 256),\n",
    "            nn.ReLU(),\n",
    "            nn.Linear(256, 128),\n",
    "            nn.ReLU(),\n",
    "            nn.Linear(128, 10)\n",
    "        )\n",
    "\n",
    "    def forward(self, x):\n",
    "        return self.fc(x)\n",
    "\n",
    "model_target = TargetModel()\n"
   ]
  },
  {
   "cell_type": "markdown",
   "id": "1c9cbb87",
   "metadata": {},
   "source": [
    "### model training"
   ]
  },
  {
   "cell_type": "code",
   "execution_count": null,
   "id": "9ca2a77f",
   "metadata": {},
   "outputs": [
    {
     "name": "stdout",
     "output_type": "stream",
     "text": [
      "Epoch 1, Loss: 260.4031\n",
      "Epoch 2, Loss: 96.9816\n",
      "Epoch 3, Loss: 64.5850\n",
      "Epoch 4, Loss: 45.4558\n",
      "Epoch 5, Loss: 35.5921\n"
     ]
    }
   ],
   "source": [
    "device = torch.device(\"cuda\" if torch.cuda.is_available() else \"cpu\")\n",
    "model_target.to(device)\n",
    "\n",
    "criterion = nn.CrossEntropyLoss()\n",
    "optimizer = optim.Adam(model_target.parameters(), lr=0.001)\n",
    "\n",
    "# basic training (5 epochs)\n",
    "for epoch in range(5):\n",
    "    model_target.train()\n",
    "    running_loss = 0.0\n",
    "    for images, labels in train_loader:\n",
    "        images, labels = images.to(device), labels.to(device)\n",
    "\n",
    "        optimizer.zero_grad()\n",
    "        outputs = model_target(images)\n",
    "        loss = criterion(outputs, labels)\n",
    "        loss.backward()\n",
    "        optimizer.step()\n",
    "        running_loss += loss.item()\n",
    "    print(f\"Epoch {epoch+1}, Loss: {running_loss:.4f}\")\n"
   ]
  },
  {
   "cell_type": "markdown",
   "id": "71635f1b",
   "metadata": {},
   "source": [
    "### evaluation"
   ]
  },
  {
   "cell_type": "code",
   "execution_count": 4,
   "id": "70040d7e",
   "metadata": {},
   "outputs": [
    {
     "name": "stdout",
     "output_type": "stream",
     "text": [
      "Target model accuracy: 98.07%\n"
     ]
    }
   ],
   "source": [
    "model_target.eval()\n",
    "correct = 0\n",
    "total = 0\n",
    "with torch.no_grad():\n",
    "    for images, labels in test_loader:\n",
    "        images, labels = images.to(device), labels.to(device)\n",
    "        outputs = model_target(images)\n",
    "        _, predicted = torch.max(outputs.data, 1)\n",
    "        total += labels.size(0)\n",
    "        correct += (predicted == labels).sum().item()\n",
    "\n",
    "accuracy = 100 * correct / total\n",
    "print(f\"Target model accuracy: {accuracy:.2f}%\")\n",
    "\n",
    "# save model\n",
    "torch.save(model_target.state_dict(), \"model_target.pth\")\n"
   ]
  },
  {
   "cell_type": "markdown",
   "id": "2fa2c2a9",
   "metadata": {},
   "source": [
    "# STEP 2 - surrogate model"
   ]
  },
  {
   "cell_type": "markdown",
   "id": "edb347ef",
   "metadata": {},
   "source": [
    "### surrogate model"
   ]
  },
  {
   "cell_type": "code",
   "execution_count": 5,
   "id": "b4d5bdc4",
   "metadata": {},
   "outputs": [],
   "source": [
    "class SurrogateModel(nn.Module):\n",
    "    def __init__(self):\n",
    "        super(SurrogateModel, self).__init__()\n",
    "        self.fc = nn.Sequential(\n",
    "            nn.Flatten(),\n",
    "            nn.Linear(28*28, 128),\n",
    "            nn.ReLU(),\n",
    "            nn.Linear(128, 64),\n",
    "            nn.ReLU(),\n",
    "            nn.Linear(64, 10)\n",
    "        )\n",
    "\n",
    "    def forward(self, x):\n",
    "        return self.fc(x)\n",
    "\n",
    "model_surrogate = SurrogateModel().to(device)\n"
   ]
  },
  {
   "cell_type": "markdown",
   "id": "77afdc95",
   "metadata": {},
   "source": [
    "### training surrogate"
   ]
  },
  {
   "cell_type": "code",
   "execution_count": 6,
   "id": "afd34784",
   "metadata": {},
   "outputs": [
    {
     "name": "stdout",
     "output_type": "stream",
     "text": [
      "[Surrogate] Epoch 1, Loss: 313.7414\n",
      "[Surrogate] Epoch 2, Loss: 128.9547\n",
      "[Surrogate] Epoch 3, Loss: 88.4981\n",
      "[Surrogate] Epoch 4, Loss: 65.2625\n",
      "[Surrogate] Epoch 5, Loss: 51.9341\n"
     ]
    }
   ],
   "source": [
    "optimizer_s = optim.Adam(model_surrogate.parameters(), lr=0.001)\n",
    "\n",
    "for epoch in range(5):\n",
    "    model_surrogate.train()\n",
    "    total_loss = 0\n",
    "    for images, labels in train_loader:\n",
    "        images, labels = images.to(device), labels.to(device)\n",
    "\n",
    "        optimizer_s.zero_grad()\n",
    "        outputs = model_surrogate(images)\n",
    "        loss = criterion(outputs, labels)\n",
    "        loss.backward()\n",
    "        optimizer_s.step()\n",
    "        total_loss += loss.item()\n",
    "    print(f\"[Surrogate] Epoch {epoch+1}, Loss: {total_loss:.4f}\")\n"
   ]
  },
  {
   "cell_type": "markdown",
   "id": "6143706e",
   "metadata": {},
   "source": [
    "### surrogate accuracy"
   ]
  },
  {
   "cell_type": "code",
   "execution_count": 7,
   "id": "bd480357",
   "metadata": {},
   "outputs": [
    {
     "name": "stdout",
     "output_type": "stream",
     "text": [
      "Surrogate model accuracy: 97.58%\n"
     ]
    }
   ],
   "source": [
    "model_surrogate.eval()\n",
    "correct = 0\n",
    "total = 0\n",
    "with torch.no_grad():\n",
    "    for images, labels in test_loader:\n",
    "        images, labels = images.to(device), labels.to(device)\n",
    "        outputs = model_surrogate(images)\n",
    "        _, predicted = torch.max(outputs, 1)\n",
    "        total += labels.size(0)\n",
    "        correct += (predicted == labels).sum().item()\n",
    "\n",
    "print(f\"Surrogate model accuracy: {100 * correct / total:.2f}%\")\n"
   ]
  },
  {
   "cell_type": "markdown",
   "id": "c815120e",
   "metadata": {},
   "source": [
    "# STEP 3 - FGSM attack"
   ]
  },
  {
   "cell_type": "code",
   "execution_count": 8,
   "id": "4f90f741",
   "metadata": {},
   "outputs": [],
   "source": [
    "def fgsm_attack(image, epsilon, data_grad):\n",
    "    # Applica il segno del gradiente moltiplicato per epsilon\n",
    "    sign_data_grad = data_grad.sign()\n",
    "    perturbed_image = image + epsilon * sign_data_grad\n",
    "    # Clamp per rimanere tra 0 e 1\n",
    "    perturbed_image = torch.clamp(perturbed_image, 0, 1)\n",
    "    return perturbed_image\n"
   ]
  },
  {
   "cell_type": "code",
   "execution_count": 9,
   "id": "bb5a582e",
   "metadata": {},
   "outputs": [
    {
     "name": "stdout",
     "output_type": "stream",
     "text": [
      "Target model accuracy under transfer attack (ε=0.2): 2.02%\n",
      "Transfer success rate: 97.98%\n"
     ]
    }
   ],
   "source": [
    "epsilon = 0.2\n",
    "adv_correct = 0\n",
    "total = 0\n",
    "transfer_success = 0\n",
    "\n",
    "model_target.load_state_dict(torch.load(\"model_target.pth\"))\n",
    "model_target.eval()\n",
    "\n",
    "# Test su un sottoinsieme per velocità\n",
    "loader = DataLoader(test_dataset, batch_size=1, shuffle=True)\n",
    "\n",
    "for idx, (image, label) in enumerate(loader):\n",
    "    if idx > 500:  # massimo 500 immagini\n",
    "        break\n",
    "\n",
    "    image, label = image.to(device), label.to(device)\n",
    "    image.requires_grad = True\n",
    "\n",
    "    # Predizione surrogato\n",
    "    output_surr = model_surrogate(image)\n",
    "    pred_surr = output_surr.max(1, keepdim=True)[1]\n",
    "\n",
    "    if pred_surr.item() != label.item():\n",
    "        continue  # saltiamo se già sbagliato\n",
    "\n",
    "    loss = criterion(output_surr, label)\n",
    "    model_surrogate.zero_grad()\n",
    "    loss.backward()\n",
    "\n",
    "    data_grad = image.grad.data\n",
    "    perturbed = fgsm_attack(image, epsilon, data_grad)\n",
    "\n",
    "    # Test sul target\n",
    "    output_target = model_target(perturbed)\n",
    "    pred_target = output_target.max(1, keepdim=True)[1]\n",
    "\n",
    "    # Statistiche\n",
    "    total += 1\n",
    "    if pred_target.item() == label.item():\n",
    "        adv_correct += 1\n",
    "    else:\n",
    "        transfer_success += 1\n",
    "\n",
    "# Risultati\n",
    "acc = 100 * adv_correct / total\n",
    "print(f\"Target model accuracy under transfer attack (ε={epsilon}): {acc:.2f}%\")\n",
    "print(f\"Transfer success rate: {transfer_success / total * 100:.2f}%\")\n"
   ]
  }
 ],
 "metadata": {
  "kernelspec": {
   "display_name": "Python 3",
   "language": "python",
   "name": "python3"
  },
  "language_info": {
   "codemirror_mode": {
    "name": "ipython",
    "version": 3
   },
   "file_extension": ".py",
   "mimetype": "text/x-python",
   "name": "python",
   "nbconvert_exporter": "python",
   "pygments_lexer": "ipython3",
   "version": "3.13.3"
  }
 },
 "nbformat": 4,
 "nbformat_minor": 5
}
